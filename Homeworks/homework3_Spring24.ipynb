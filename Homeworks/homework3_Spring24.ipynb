{
 "cells": [
  {
   "cell_type": "markdown",
   "metadata": {
    "id": "EUmeOR_J4cCd"
   },
   "source": [
    "# Homework 3: Inference with Linear Regression & Multiple Linear Regression (50 points)\n",
    "\n",
    "Please complete this notebook by filling in the cells provided.\n",
    "\n",
    "The solved homework should be uploaded to Gradescope as an .ipynb file. DO NOT put your answers in more than one file or use a different file extension.\n",
    "\n",
    "**<u>Deadline</u>**:\n",
    "\n",
    "This assignment is due on **Friday, April 12** at **11:59pm**.\n",
    "\n",
    "- Directly sharing answers is not okay, but discussing problems with the course staff or with other students is encouraged.\n",
    "\n",
    "- You should start early so that you have time to get help if you're stuck.\n",
    "\n",
    "- Submit your homework 30-60 minutes to ensure that it will upload before the deadline.\n",
    "\n",
    "- Please run all of your code cells and ensure all of your answers are outputted and visible to graders.\n",
    "\n",
    "- Check the file preview on Gradescope to make sure all of your answers are visible.\n",
    "\n",
    "- Be mindful of your file sizes. Do not print out entire large datasets use .head or .tail instead. Make sure your document is visible in the Gradescope preview.\n",
    "\n",
    "- Your functions should have a docstring. Points may be taken off for not including a docstring.\n",
    "\n",
    "- Your graphs should be labeled with a title, x-label, and y-label and be otherwise readable. Intervals on x- and y-axises should make sense for the data. If these items are missing, points may be taken off."
   ]
  },
  {
   "cell_type": "code",
   "execution_count": 4,
   "metadata": {
    "id": "7Ym7svOf4cCg"
   },
   "outputs": [],
   "source": [
    "# Don't change this cell; just run it.\n",
    "import numpy as np\n",
    "import pandas as pd\n",
    "%matplotlib inline\n",
    "import matplotlib.pyplot as plt\n",
    "plt.style.use('fivethirtyeight')\n",
    "\n",
    "#new module (library)\n",
    "from sklearn.linear_model import LinearRegression \n",
    "from sklearn.metrics import r2_score"
   ]
  },
  {
   "cell_type": "code",
   "execution_count": 5,
   "metadata": {},
   "outputs": [],
   "source": [
    "def standard_units(x):\n",
    "    \"Convert any array of numbers to standard units.\"\n",
    "    return (x - np.average(x))/np.std(x,ddof=1)  \n",
    "\n",
    "def correlation(x, y):\n",
    "    x_in_standard_units = standard_units(x)\n",
    "    y_in_standard_units = standard_units(y)\n",
    "    if len(x)!=len(y):\n",
    "        raise ValueError('arrays are of different lengths')\n",
    "    return sum(x_in_standard_units * y_in_standard_units)/(len(x)-1)\n",
    "\n",
    "def slope(x, y):\n",
    "    if len(x)!=len(y):\n",
    "        raise ValueError('arrays are of different lengths')\n",
    "    return  correlation(x, y)* np.std(y,ddof=1)/np.std(x,ddof=1)\n",
    "\n",
    "def intercept(x, y):\n",
    "    b1 = slope(x, y)\n",
    "    return np.average(y) - b1 * np.average(x)\n",
    "\n",
    "def fitted_values(x, y):\n",
    "    \"\"\"Return an array of the regressions estimates at all the x values\"\"\"\n",
    "    b1 = slope(x, y)\n",
    "    b0 = intercept(x, y)\n",
    "    return b1*x + b0\n",
    "\n",
    "def residuals(x, y):\n",
    "    return y - fitted_values(x, y)"
   ]
  },
  {
   "cell_type": "markdown",
   "metadata": {},
   "source": [
    "## 1. Simulations and Confidence Intervals (8 points)\n",
    "\n",
    "In this exercise we will construct confidence intervals for the population correlation parameter and we will use simulations to assess the validity of our procedure.\n",
    "\n",
    "The following cell contains a function that generates a dataset of sample size n from a population with correlation parameter equal to r."
   ]
  },
  {
   "cell_type": "code",
   "execution_count": 6,
   "metadata": {},
   "outputs": [],
   "source": [
    "def cor_sim(r,n):\n",
    "    x = np.random.normal(0, 1, n)\n",
    "    z = np.random.normal(0, 1, n)\n",
    "    y = r*x + np.sqrt(1 - r**2)*z\n",
    "    df = pd.DataFrame()\n",
    "    df['X'] = x\n",
    "    df['Y'] = y\n",
    "    return df"
   ]
  },
  {
   "cell_type": "code",
   "execution_count": 7,
   "metadata": {},
   "outputs": [
    {
     "data": {
      "image/png": "[encoded data removed]",
      "text/plain": [
       "<Figure size 500x500 with 1 Axes>"
      ]
     },
     "metadata": {},
     "output_type": "display_data"
    }
   ],
   "source": [
    "# run this to get a scatter plot of a simulated dataset\n",
    "sim1_df=cor_sim(0.3,200)\n",
    "\n",
    "plt.figure(figsize=(5,5))\n",
    "plt.scatter(sim1_df.X, sim1_df.Y, s=10,c='darkblue')\n",
    "\n",
    "plt.show()"
   ]
  },
  {
   "cell_type": "markdown",
   "metadata": {},
   "source": [
    "**Question 1. (3pts)** Write a function that calculates (for two given variables reflected in two columns of a data frame) a 95% confidence interval for the population correlation. Then calculate a bootstrap 95% CI for a dataset simulated with the function above. (You can use percentile or basic bootstrap)"
   ]
  },
  {
   "cell_type": "code",
   "execution_count": 8,
   "metadata": {},
   "outputs": [],
   "source": [
    "def bootstrap_correlation(df, x, y, repetitions):\n",
    "    '''a function that outputs a 95% CI for the correlation\n",
    "     inputs are: a data frame, the name of the two columns, and number of bootstraps\n",
    "     output is: an array of length three containing the correlation, and also\n",
    "     the left and right ends of the 95% CI'''\n",
    "    x_data = df[x]\n",
    "    y_data = df[y]\n",
    "    \n",
    "    slope_estimates = []\n",
    "    \n",
    "    n = df.shape[0]\n",
    "    \n",
    "    for i in range(repetitions):\n",
    "        bootstrap_indices = np.random.choice(n, n, replace=True)\n",
    "        x_bootstrap = x_data.iloc[bootstrap_indices]\n",
    "        y_bootstrap = y_data.iloc[bootstrap_indices]\n",
    "        \n",
    "        slope_estimates.append(correlation(x_bootstrap, y_bootstrap))\n",
    "        \n",
    "    \n",
    "    lower_confidence_interval = np.percentile(slope_estimates, 2.5)\n",
    "    upper_confidence_interval = np.percentile(slope_estimates, 97.5)\n",
    "    \n",
    "    return (lower_confidence_interval, upper_confidence_interval)\n",
    "    "
   ]
  },
  {
   "cell_type": "code",
   "execution_count": 9,
   "metadata": {},
   "outputs": [
    {
     "data": {
      "text/plain": [
       "(0.16466579681720106, 0.426239142809534)"
      ]
     },
     "execution_count": 9,
     "metadata": {},
     "output_type": "execute_result"
    }
   ],
   "source": [
    "# run this cell to get a confidence interval for one simulated dataset\n",
    "\n",
    "# a simulated data frame with population correlation 0.3\n",
    "sim1_df=cor_sim(0.3,200)\n",
    "\n",
    "bootstrap_correlation(sim1_df,'X','Y',1000)"
   ]
  },
  {
   "cell_type": "markdown",
   "metadata": {},
   "source": [
    "**Question 2 (3pts)** Repeat this procedure 100 times with the same specifications (n=200, r=0.3) and construct a data frame that has 100 rows (one for each simulation) and three columns:\n",
    "\n",
    "- ObsCor: which contains the observed correlations in each simulated datasets;\n",
    "- Left: contains the left ends of the 95% confidence intervals;\n",
    "- Right: contains the right ends of the 95% confidence intervals."
   ]
  },
  {
   "cell_type": "code",
   "execution_count": 10,
   "metadata": {},
   "outputs": [],
   "source": [
    "def simulate_correlations(r, n, repetitions):\n",
    "    '''Takes in a correlation coefficient, the size of a dataset, and a # of repetitions and returns a dataframe\n",
    "    that has \"repetitions\" rows and 3 columns: 'ObsCor', 'Left', and 'Right'.'''\n",
    "    \n",
    "    ObsCor = []\n",
    "    Left = []\n",
    "    Right = []\n",
    "    \n",
    "    sim_df = cor_sim(r, n)\n",
    "    \n",
    "    for i in range(repetitions):\n",
    "        \n",
    "        bootstrap_indices = np.random.choice(n, n, replace=True)\n",
    "        x_bootstrap = sim_df['X'].iloc[bootstrap_indices]\n",
    "        y_bootstrap = sim_df['Y'].iloc[bootstrap_indices]\n",
    "        \n",
    "        observed_corr = correlation(x_bootstrap, y_bootstrap)\n",
    "        ObsCor.append(observed_corr)\n",
    "        \n",
    "        bootstrap_result = bootstrap_correlation(sim_df, 'X', 'Y', repetitions)\n",
    "        Left.append(bootstrap_result[0])\n",
    "        Right.append(bootstrap_result[1])\n",
    "        \n",
    "    return pd.DataFrame({'ObsCor': ObsCor, 'Left': Left, 'Right': Right})\n",
    "\n",
    "    "
   ]
  },
  {
   "cell_type": "code",
   "execution_count": 13,
   "metadata": {},
   "outputs": [
    {
     "data": {
      "text/html": [
       "<div>\n",
       "<style scoped>\n",
       "    .dataframe tbody tr th:only-of-type {\n",
       "        vertical-align: middle;\n",
       "    }\n",
       "\n",
       "    .dataframe tbody tr th {\n",
       "        vertical-align: top;\n",
       "    }\n",
       "\n",
       "    .dataframe thead th {\n",
       "        text-align: right;\n",
       "    }\n",
       "</style>\n",
       "<table border=\"1\" class=\"dataframe\">\n",
       "  <thead>\n",
       "    <tr style=\"text-align: right;\">\n",
       "      <th></th>\n",
       "      <th>ObsCor</th>\n",
       "      <th>Left</th>\n",
       "      <th>Right</th>\n",
       "    </tr>\n",
       "  </thead>\n",
       "  <tbody>\n",
       "    <tr>\n",
       "      <th>0</th>\n",
       "      <td>0.271955</td>\n",
       "      <td>0.133204</td>\n",
       "      <td>0.368807</td>\n",
       "    </tr>\n",
       "    <tr>\n",
       "      <th>1</th>\n",
       "      <td>0.289556</td>\n",
       "      <td>0.125819</td>\n",
       "      <td>0.360775</td>\n",
       "    </tr>\n",
       "    <tr>\n",
       "      <th>2</th>\n",
       "      <td>0.165941</td>\n",
       "      <td>0.131896</td>\n",
       "      <td>0.391468</td>\n",
       "    </tr>\n",
       "    <tr>\n",
       "      <th>3</th>\n",
       "      <td>0.178444</td>\n",
       "      <td>0.150574</td>\n",
       "      <td>0.355918</td>\n",
       "    </tr>\n",
       "    <tr>\n",
       "      <th>4</th>\n",
       "      <td>0.318904</td>\n",
       "      <td>0.130622</td>\n",
       "      <td>0.381971</td>\n",
       "    </tr>\n",
       "    <tr>\n",
       "      <th>...</th>\n",
       "      <td>...</td>\n",
       "      <td>...</td>\n",
       "      <td>...</td>\n",
       "    </tr>\n",
       "    <tr>\n",
       "      <th>95</th>\n",
       "      <td>0.166947</td>\n",
       "      <td>0.135977</td>\n",
       "      <td>0.376527</td>\n",
       "    </tr>\n",
       "    <tr>\n",
       "      <th>96</th>\n",
       "      <td>0.295064</td>\n",
       "      <td>0.127639</td>\n",
       "      <td>0.365026</td>\n",
       "    </tr>\n",
       "    <tr>\n",
       "      <th>97</th>\n",
       "      <td>0.297859</td>\n",
       "      <td>0.133858</td>\n",
       "      <td>0.349052</td>\n",
       "    </tr>\n",
       "    <tr>\n",
       "      <th>98</th>\n",
       "      <td>0.262024</td>\n",
       "      <td>0.136216</td>\n",
       "      <td>0.376991</td>\n",
       "    </tr>\n",
       "    <tr>\n",
       "      <th>99</th>\n",
       "      <td>0.200362</td>\n",
       "      <td>0.087877</td>\n",
       "      <td>0.357851</td>\n",
       "    </tr>\n",
       "  </tbody>\n",
       "</table>\n",
       "<p>100 rows × 3 columns</p>\n",
       "</div>"
      ],
      "text/plain": [
       "      ObsCor      Left     Right\n",
       "0   0.271955  0.133204  0.368807\n",
       "1   0.289556  0.125819  0.360775\n",
       "2   0.165941  0.131896  0.391468\n",
       "3   0.178444  0.150574  0.355918\n",
       "4   0.318904  0.130622  0.381971\n",
       "..       ...       ...       ...\n",
       "95  0.166947  0.135977  0.376527\n",
       "96  0.295064  0.127639  0.365026\n",
       "97  0.297859  0.133858  0.349052\n",
       "98  0.262024  0.136216  0.376991\n",
       "99  0.200362  0.087877  0.357851\n",
       "\n",
       "[100 rows x 3 columns]"
      ]
     },
     "execution_count": 13,
     "metadata": {},
     "output_type": "execute_result"
    }
   ],
   "source": [
    "result_df = simulate_correlations(0.3, 200, 100)\n",
    "\n",
    "result_df"
   ]
  },
  {
   "cell_type": "markdown",
   "metadata": {},
   "source": [
    "**Question 3. (2pts)** Calculate the number of intervals that contain the population value of the correlation (r=0.3). Is this number consistent with your expectation? "
   ]
  },
  {
   "cell_type": "code",
   "execution_count": 14,
   "metadata": {},
   "outputs": [
    {
     "data": {
      "text/plain": [
       "100"
      ]
     },
     "execution_count": 14,
     "metadata": {},
     "output_type": "execute_result"
    }
   ],
   "source": [
    "count = 0\n",
    "for index, row in result_df.iterrows():\n",
    "    if row['Left'] <= 0.3 <= row['Right']:\n",
    "            count += 1\n",
    "\n",
    "count"
   ]
  },
  {
   "cell_type": "markdown",
   "metadata": {},
   "source": [
    "Out of the 100 intervals that I calculated, 100 of them contain the population value of the correlation (r = 0.3). This is fairly expected, as the function \"bootstrap_slope\" calculates a 95% confidence interval, which is close enough to 100%, the empirical value I calculated above."
   ]
  },
  {
   "cell_type": "markdown",
   "metadata": {
    "id": "HFhijrF84cCh"
   },
   "source": [
    "## 2. Birthweight Prediction (42 points)\n",
    "\n",
    "A dataset was collected at Baystate Medical Center, Springfield, Massachusetts during 1986 that contains the following variables:\n",
    "\n",
    "- low: indicator of birth weight less than 2.5 kg.\n",
    "- age: mother’s age in years.\n",
    "- lwt: mother’s weight in pounds at last menstrual period.\n",
    "- race: mother’s race (1 = white, 2 = black, 3 = other).\n",
    "- smoke: smoking status during pregnancy.\n",
    "- ptl: number of previous premature labours.\n",
    "- ht: history of hypertension.\n",
    "- ui: presence of uterine irritability.\n",
    "- ftv: number of physician visits during the first trimester.\n",
    "- bwt: birth weight in grams.\n",
    "\n",
    "For original data 0 is no, 1 is yes.\n",
    "\n",
    "You can find more informationabout it here: https://vincentarelbundock.github.io/Rdatasets/doc/MASS/birthwt.html"
   ]
  },
  {
   "cell_type": "code",
   "execution_count": 15,
   "metadata": {
    "colab": {
     "base_uri": "https://localhost:8080/",
     "height": 424
    },
    "id": "2JgSX4gb4cCi",
    "outputId": "29d28ad8-7f1b-480f-c996-b0bc2cc7ce64",
    "scrolled": true
   },
   "outputs": [
    {
     "data": {
      "text/html": [
       "<div>\n",
       "<style scoped>\n",
       "    .dataframe tbody tr th:only-of-type {\n",
       "        vertical-align: middle;\n",
       "    }\n",
       "\n",
       "    .dataframe tbody tr th {\n",
       "        vertical-align: top;\n",
       "    }\n",
       "\n",
       "    .dataframe thead th {\n",
       "        text-align: right;\n",
       "    }\n",
       "</style>\n",
       "<table border=\"1\" class=\"dataframe\">\n",
       "  <thead>\n",
       "    <tr style=\"text-align: right;\">\n",
       "      <th></th>\n",
       "      <th>Unnamed: 0</th>\n",
       "      <th>low</th>\n",
       "      <th>age</th>\n",
       "      <th>lwt</th>\n",
       "      <th>race</th>\n",
       "      <th>smoke</th>\n",
       "      <th>ptl</th>\n",
       "      <th>ht</th>\n",
       "      <th>ui</th>\n",
       "      <th>ftv</th>\n",
       "      <th>bwt</th>\n",
       "    </tr>\n",
       "  </thead>\n",
       "  <tbody>\n",
       "    <tr>\n",
       "      <th>0</th>\n",
       "      <td>85</td>\n",
       "      <td>0</td>\n",
       "      <td>19</td>\n",
       "      <td>182</td>\n",
       "      <td>2</td>\n",
       "      <td>0</td>\n",
       "      <td>0</td>\n",
       "      <td>0</td>\n",
       "      <td>1</td>\n",
       "      <td>0</td>\n",
       "      <td>2523</td>\n",
       "    </tr>\n",
       "    <tr>\n",
       "      <th>1</th>\n",
       "      <td>86</td>\n",
       "      <td>0</td>\n",
       "      <td>33</td>\n",
       "      <td>155</td>\n",
       "      <td>3</td>\n",
       "      <td>0</td>\n",
       "      <td>0</td>\n",
       "      <td>0</td>\n",
       "      <td>0</td>\n",
       "      <td>3</td>\n",
       "      <td>2551</td>\n",
       "    </tr>\n",
       "    <tr>\n",
       "      <th>2</th>\n",
       "      <td>87</td>\n",
       "      <td>0</td>\n",
       "      <td>20</td>\n",
       "      <td>105</td>\n",
       "      <td>1</td>\n",
       "      <td>1</td>\n",
       "      <td>0</td>\n",
       "      <td>0</td>\n",
       "      <td>0</td>\n",
       "      <td>1</td>\n",
       "      <td>2557</td>\n",
       "    </tr>\n",
       "    <tr>\n",
       "      <th>3</th>\n",
       "      <td>88</td>\n",
       "      <td>0</td>\n",
       "      <td>21</td>\n",
       "      <td>108</td>\n",
       "      <td>1</td>\n",
       "      <td>1</td>\n",
       "      <td>0</td>\n",
       "      <td>0</td>\n",
       "      <td>1</td>\n",
       "      <td>2</td>\n",
       "      <td>2594</td>\n",
       "    </tr>\n",
       "    <tr>\n",
       "      <th>4</th>\n",
       "      <td>89</td>\n",
       "      <td>0</td>\n",
       "      <td>18</td>\n",
       "      <td>107</td>\n",
       "      <td>1</td>\n",
       "      <td>1</td>\n",
       "      <td>0</td>\n",
       "      <td>0</td>\n",
       "      <td>1</td>\n",
       "      <td>0</td>\n",
       "      <td>2600</td>\n",
       "    </tr>\n",
       "    <tr>\n",
       "      <th>5</th>\n",
       "      <td>91</td>\n",
       "      <td>0</td>\n",
       "      <td>21</td>\n",
       "      <td>124</td>\n",
       "      <td>3</td>\n",
       "      <td>0</td>\n",
       "      <td>0</td>\n",
       "      <td>0</td>\n",
       "      <td>0</td>\n",
       "      <td>0</td>\n",
       "      <td>2622</td>\n",
       "    </tr>\n",
       "    <tr>\n",
       "      <th>6</th>\n",
       "      <td>92</td>\n",
       "      <td>0</td>\n",
       "      <td>22</td>\n",
       "      <td>118</td>\n",
       "      <td>1</td>\n",
       "      <td>0</td>\n",
       "      <td>0</td>\n",
       "      <td>0</td>\n",
       "      <td>0</td>\n",
       "      <td>1</td>\n",
       "      <td>2637</td>\n",
       "    </tr>\n",
       "    <tr>\n",
       "      <th>7</th>\n",
       "      <td>93</td>\n",
       "      <td>0</td>\n",
       "      <td>17</td>\n",
       "      <td>103</td>\n",
       "      <td>3</td>\n",
       "      <td>0</td>\n",
       "      <td>0</td>\n",
       "      <td>0</td>\n",
       "      <td>0</td>\n",
       "      <td>1</td>\n",
       "      <td>2637</td>\n",
       "    </tr>\n",
       "    <tr>\n",
       "      <th>8</th>\n",
       "      <td>94</td>\n",
       "      <td>0</td>\n",
       "      <td>29</td>\n",
       "      <td>123</td>\n",
       "      <td>1</td>\n",
       "      <td>1</td>\n",
       "      <td>0</td>\n",
       "      <td>0</td>\n",
       "      <td>0</td>\n",
       "      <td>1</td>\n",
       "      <td>2663</td>\n",
       "    </tr>\n",
       "    <tr>\n",
       "      <th>9</th>\n",
       "      <td>95</td>\n",
       "      <td>0</td>\n",
       "      <td>26</td>\n",
       "      <td>113</td>\n",
       "      <td>1</td>\n",
       "      <td>1</td>\n",
       "      <td>0</td>\n",
       "      <td>0</td>\n",
       "      <td>0</td>\n",
       "      <td>0</td>\n",
       "      <td>2665</td>\n",
       "    </tr>\n",
       "  </tbody>\n",
       "</table>\n",
       "</div>"
      ],
      "text/plain": [
       "   Unnamed: 0  low  age  lwt  race  smoke  ptl  ht  ui  ftv   bwt\n",
       "0          85    0   19  182     2      0    0   0   1    0  2523\n",
       "1          86    0   33  155     3      0    0   0   0    3  2551\n",
       "2          87    0   20  105     1      1    0   0   0    1  2557\n",
       "3          88    0   21  108     1      1    0   0   1    2  2594\n",
       "4          89    0   18  107     1      1    0   0   1    0  2600\n",
       "5          91    0   21  124     3      0    0   0   0    0  2622\n",
       "6          92    0   22  118     1      0    0   0   0    1  2637\n",
       "7          93    0   17  103     3      0    0   0   0    1  2637\n",
       "8          94    0   29  123     1      1    0   0   0    1  2663\n",
       "9          95    0   26  113     1      1    0   0   0    0  2665"
      ]
     },
     "execution_count": 15,
     "metadata": {},
     "output_type": "execute_result"
    }
   ],
   "source": [
    "births_df=pd.read_csv(\"../data/birthwt.csv\")\n",
    "births_df.head(10)"
   ]
  },
  {
   "cell_type": "markdown",
   "metadata": {
    "id": "S3UCLwCE4cCi"
   },
   "source": [
    "**Question 4. (4 pts)** Review the variables to identify which are numeric and which are categorical. Convert any\n",
    "categorical variables into numeric dummy variables."
   ]
  },
  {
   "cell_type": "code",
   "execution_count": 16,
   "metadata": {
    "id": "iBU_mLCt4cCj",
    "scrolled": true
   },
   "outputs": [
    {
     "data": {
      "text/html": [
       "<div>\n",
       "<style scoped>\n",
       "    .dataframe tbody tr th:only-of-type {\n",
       "        vertical-align: middle;\n",
       "    }\n",
       "\n",
       "    .dataframe tbody tr th {\n",
       "        vertical-align: top;\n",
       "    }\n",
       "\n",
       "    .dataframe thead th {\n",
       "        text-align: right;\n",
       "    }\n",
       "</style>\n",
       "<table border=\"1\" class=\"dataframe\">\n",
       "  <thead>\n",
       "    <tr style=\"text-align: right;\">\n",
       "      <th></th>\n",
       "      <th>Unnamed: 0</th>\n",
       "      <th>low</th>\n",
       "      <th>age</th>\n",
       "      <th>lwt</th>\n",
       "      <th>ptl</th>\n",
       "      <th>ftv</th>\n",
       "      <th>bwt</th>\n",
       "      <th>race_2</th>\n",
       "      <th>race_3</th>\n",
       "      <th>smoke_1</th>\n",
       "      <th>ht_1</th>\n",
       "      <th>ui_1</th>\n",
       "    </tr>\n",
       "  </thead>\n",
       "  <tbody>\n",
       "    <tr>\n",
       "      <th>0</th>\n",
       "      <td>85</td>\n",
       "      <td>0</td>\n",
       "      <td>19</td>\n",
       "      <td>182</td>\n",
       "      <td>0</td>\n",
       "      <td>0</td>\n",
       "      <td>2523</td>\n",
       "      <td>1.0</td>\n",
       "      <td>0.0</td>\n",
       "      <td>0.0</td>\n",
       "      <td>0.0</td>\n",
       "      <td>1.0</td>\n",
       "    </tr>\n",
       "    <tr>\n",
       "      <th>1</th>\n",
       "      <td>86</td>\n",
       "      <td>0</td>\n",
       "      <td>33</td>\n",
       "      <td>155</td>\n",
       "      <td>0</td>\n",
       "      <td>3</td>\n",
       "      <td>2551</td>\n",
       "      <td>0.0</td>\n",
       "      <td>1.0</td>\n",
       "      <td>0.0</td>\n",
       "      <td>0.0</td>\n",
       "      <td>0.0</td>\n",
       "    </tr>\n",
       "    <tr>\n",
       "      <th>2</th>\n",
       "      <td>87</td>\n",
       "      <td>0</td>\n",
       "      <td>20</td>\n",
       "      <td>105</td>\n",
       "      <td>0</td>\n",
       "      <td>1</td>\n",
       "      <td>2557</td>\n",
       "      <td>0.0</td>\n",
       "      <td>0.0</td>\n",
       "      <td>1.0</td>\n",
       "      <td>0.0</td>\n",
       "      <td>0.0</td>\n",
       "    </tr>\n",
       "    <tr>\n",
       "      <th>3</th>\n",
       "      <td>88</td>\n",
       "      <td>0</td>\n",
       "      <td>21</td>\n",
       "      <td>108</td>\n",
       "      <td>0</td>\n",
       "      <td>2</td>\n",
       "      <td>2594</td>\n",
       "      <td>0.0</td>\n",
       "      <td>0.0</td>\n",
       "      <td>1.0</td>\n",
       "      <td>0.0</td>\n",
       "      <td>1.0</td>\n",
       "    </tr>\n",
       "    <tr>\n",
       "      <th>4</th>\n",
       "      <td>89</td>\n",
       "      <td>0</td>\n",
       "      <td>18</td>\n",
       "      <td>107</td>\n",
       "      <td>0</td>\n",
       "      <td>0</td>\n",
       "      <td>2600</td>\n",
       "      <td>0.0</td>\n",
       "      <td>0.0</td>\n",
       "      <td>1.0</td>\n",
       "      <td>0.0</td>\n",
       "      <td>1.0</td>\n",
       "    </tr>\n",
       "    <tr>\n",
       "      <th>...</th>\n",
       "      <td>...</td>\n",
       "      <td>...</td>\n",
       "      <td>...</td>\n",
       "      <td>...</td>\n",
       "      <td>...</td>\n",
       "      <td>...</td>\n",
       "      <td>...</td>\n",
       "      <td>...</td>\n",
       "      <td>...</td>\n",
       "      <td>...</td>\n",
       "      <td>...</td>\n",
       "      <td>...</td>\n",
       "    </tr>\n",
       "    <tr>\n",
       "      <th>184</th>\n",
       "      <td>79</td>\n",
       "      <td>1</td>\n",
       "      <td>28</td>\n",
       "      <td>95</td>\n",
       "      <td>0</td>\n",
       "      <td>2</td>\n",
       "      <td>2466</td>\n",
       "      <td>0.0</td>\n",
       "      <td>0.0</td>\n",
       "      <td>1.0</td>\n",
       "      <td>0.0</td>\n",
       "      <td>0.0</td>\n",
       "    </tr>\n",
       "    <tr>\n",
       "      <th>185</th>\n",
       "      <td>81</td>\n",
       "      <td>1</td>\n",
       "      <td>14</td>\n",
       "      <td>100</td>\n",
       "      <td>0</td>\n",
       "      <td>2</td>\n",
       "      <td>2495</td>\n",
       "      <td>0.0</td>\n",
       "      <td>1.0</td>\n",
       "      <td>0.0</td>\n",
       "      <td>0.0</td>\n",
       "      <td>0.0</td>\n",
       "    </tr>\n",
       "    <tr>\n",
       "      <th>186</th>\n",
       "      <td>82</td>\n",
       "      <td>1</td>\n",
       "      <td>23</td>\n",
       "      <td>94</td>\n",
       "      <td>0</td>\n",
       "      <td>0</td>\n",
       "      <td>2495</td>\n",
       "      <td>0.0</td>\n",
       "      <td>1.0</td>\n",
       "      <td>1.0</td>\n",
       "      <td>0.0</td>\n",
       "      <td>0.0</td>\n",
       "    </tr>\n",
       "    <tr>\n",
       "      <th>187</th>\n",
       "      <td>83</td>\n",
       "      <td>1</td>\n",
       "      <td>17</td>\n",
       "      <td>142</td>\n",
       "      <td>0</td>\n",
       "      <td>0</td>\n",
       "      <td>2495</td>\n",
       "      <td>1.0</td>\n",
       "      <td>0.0</td>\n",
       "      <td>0.0</td>\n",
       "      <td>1.0</td>\n",
       "      <td>0.0</td>\n",
       "    </tr>\n",
       "    <tr>\n",
       "      <th>188</th>\n",
       "      <td>84</td>\n",
       "      <td>1</td>\n",
       "      <td>21</td>\n",
       "      <td>130</td>\n",
       "      <td>0</td>\n",
       "      <td>3</td>\n",
       "      <td>2495</td>\n",
       "      <td>0.0</td>\n",
       "      <td>0.0</td>\n",
       "      <td>1.0</td>\n",
       "      <td>1.0</td>\n",
       "      <td>0.0</td>\n",
       "    </tr>\n",
       "  </tbody>\n",
       "</table>\n",
       "<p>189 rows × 12 columns</p>\n",
       "</div>"
      ],
      "text/plain": [
       "     Unnamed: 0  low  age  lwt  ptl  ftv   bwt  race_2  race_3  smoke_1  ht_1  \\\n",
       "0            85    0   19  182    0    0  2523     1.0     0.0      0.0   0.0   \n",
       "1            86    0   33  155    0    3  2551     0.0     1.0      0.0   0.0   \n",
       "2            87    0   20  105    0    1  2557     0.0     0.0      1.0   0.0   \n",
       "3            88    0   21  108    0    2  2594     0.0     0.0      1.0   0.0   \n",
       "4            89    0   18  107    0    0  2600     0.0     0.0      1.0   0.0   \n",
       "..          ...  ...  ...  ...  ...  ...   ...     ...     ...      ...   ...   \n",
       "184          79    1   28   95    0    2  2466     0.0     0.0      1.0   0.0   \n",
       "185          81    1   14  100    0    2  2495     0.0     1.0      0.0   0.0   \n",
       "186          82    1   23   94    0    0  2495     0.0     1.0      1.0   0.0   \n",
       "187          83    1   17  142    0    0  2495     1.0     0.0      0.0   1.0   \n",
       "188          84    1   21  130    0    3  2495     0.0     0.0      1.0   1.0   \n",
       "\n",
       "     ui_1  \n",
       "0     1.0  \n",
       "1     0.0  \n",
       "2     0.0  \n",
       "3     1.0  \n",
       "4     1.0  \n",
       "..    ...  \n",
       "184   0.0  \n",
       "185   0.0  \n",
       "186   0.0  \n",
       "187   0.0  \n",
       "188   0.0  \n",
       "\n",
       "[189 rows x 12 columns]"
      ]
     },
     "execution_count": 16,
     "metadata": {},
     "output_type": "execute_result"
    }
   ],
   "source": [
    "births_df = pd.get_dummies(births_df, columns=['race', 'smoke', 'ht', 'ui'], dtype = 'float', drop_first=True)\n",
    "births_df"
   ]
  },
  {
   "cell_type": "markdown",
   "metadata": {},
   "source": [
    "**Question 5 (10pts)** Fit a simple linear regression model for `Mother's weight` (lwt) (as the predictor) and `Birth Weight` (bwt) (as the response). Calculate the \n",
    "\n",
    "(a) (1pt) intercept\n",
    "\n",
    "(b) (1pt) the slope \n",
    "\n",
    "(c) (3pts) and a 95% Confidence Interval for the slope (you can use basic or percentile)\n",
    "\n",
    "Briefly discuss your results by: \n",
    "\n",
    "(i) (1pts) interpreting the slope; \n",
    "\n",
    "(ii) (3pts) discussing the significance of the predictor (is there evidence that the slope is different than 0?) Clearly specify the null and alternative hypothesis, and if you reject or fail to reject the null.; \n",
    "\n",
    "(iii)(1pt) commenting on whether the results make sense (does it make sense for birth weight to be associated with mother's weight?).\n"
   ]
  },
  {
   "cell_type": "code",
   "execution_count": 17,
   "metadata": {},
   "outputs": [],
   "source": [
    "def bootstrap_slope(df, x, y, repetitions):\n",
    "    '''a function that outputs a 95% CI for the slope between two sets\n",
    "     inputs are: a data frame, the name of the two columns, and number of bootstraps\n",
    "     output is: an array of length three containing the correlation, and also\n",
    "     the left and right ends of the 95% CI'''\n",
    "    x_data = df[x]\n",
    "    y_data = df[y]\n",
    "    \n",
    "    slope_estimates = []\n",
    "    \n",
    "    n = df.shape[0]\n",
    "    \n",
    "    for i in range(repetitions):\n",
    "        bootstrap_indices = np.random.choice(n, n, replace=True)\n",
    "        x_bootstrap = x_data.iloc[bootstrap_indices]\n",
    "        y_bootstrap = y_data.iloc[bootstrap_indices]\n",
    "        \n",
    "        slope_estimates.append(slope(x_bootstrap, y_bootstrap))\n",
    "        \n",
    "    \n",
    "    lower_confidence_interval = np.percentile(slope_estimates, 2.5)\n",
    "    upper_confidence_interval = np.percentile(slope_estimates, 97.5)\n",
    "    \n",
    "    return (lower_confidence_interval, upper_confidence_interval)"
   ]
  },
  {
   "cell_type": "code",
   "execution_count": 18,
   "metadata": {},
   "outputs": [
    {
     "name": "stdout",
     "output_type": "stream",
     "text": [
      "The slope-intercept form line of a simple linear regression model for Mother's weight vs. Birth weight would be y = 4.429107606350701x + 2369.6235178739976\n"
     ]
    }
   ],
   "source": [
    "model = LinearRegression().fit(births_df[['lwt']], births_df['bwt'])\n",
    "\n",
    "b = model.intercept_\n",
    "m = model.coef_[0]\n",
    "print(f\"The slope-intercept form line of a simple linear regression model for Mother's weight vs. Birth weight would be y = {m}x + {b}\")\n"
   ]
  },
  {
   "cell_type": "code",
   "execution_count": 19,
   "metadata": {},
   "outputs": [
    {
     "name": "stdout",
     "output_type": "stream",
     "text": [
      "A 95% Confidence Interval for the slope of the linear regression model is: (1.898634153316593, 7.360760459342167)\n"
     ]
    }
   ],
   "source": [
    "confidence_interval = bootstrap_slope(births_df, 'lwt', 'bwt', 500)\n",
    "print(f\"A 95% Confidence Interval for the slope of the linear regression model is: {confidence_interval}\")"
   ]
  },
  {
   "cell_type": "code",
   "execution_count": 20,
   "metadata": {},
   "outputs": [
    {
     "data": {
      "image/png": "[encoded data removed]",
      "text/plain": [
       "<Figure size 640x480 with 1 Axes>"
      ]
     },
     "metadata": {},
     "output_type": "display_data"
    }
   ],
   "source": [
    "plt.scatter(births_df.lwt, births_df.bwt, color = 'red')\n",
    "\n",
    "plt.plot(births_df.lwt, m * births_df.lwt + b, color = 'blue', linestyle='dotted')\n",
    "\n",
    "plt.xlabel(\"Mother's Weight (lbs)\")\n",
    "plt.ylabel(\"Baby Weight (grams)\")\n",
    "\n",
    "plt.title(\"Mother's Weight vs. Baby Weight\")\n",
    "\n",
    "plt.show()"
   ]
  },
  {
   "cell_type": "markdown",
   "metadata": {},
   "source": [
    "Interpretation of Slope: In the context of this linear regression model, which compares mother's weight (in lbs) with their respective baby's weight (in grams), the slope of ~4.29 means that for every 1-pound increase in Mother's weight, their baby's weight, on average, increases by 4.29 grams.\n",
    "\n",
    "Significance of the Predictor:\n",
    "Null Hypothesis: β1=0\n",
    "Alternative Hypothesis: β1≠0\n",
    "\n",
    "Given that the 95% Confidence Interval I calculated for the slope between Mother's weight and Baby Weight ([1.2995488399164978, 7.286724608151909]) does not contain zero, we can reject our null hypothesis and affirm the alternative, that there is a non-zero correlation between the two variables.\n",
    "\n",
    "I would say the results make some sense. It seems intuitive that there would be some sort of correlation between the two variables, even if it's not very significant (a change in ~4 grams is not a very large change)."
   ]
  },
  {
   "cell_type": "markdown",
   "metadata": {
    "id": "1b6pAoBT4cCj"
   },
   "source": [
    "**Question 6. (3pts)** A correlation matrix shows all of the pairwise correlations for a set of variables. Find the correlation matrix for the numeric variables in this dataset (other than the dummy variables you just created). Are there any predictors that could be considered collinear?\n",
    "\n",
    "Hint: See https://pandas.pydata.org/docs/reference/api/pandas.DataFrame.corr.html and/or https://numpy.org/doc/stable/reference/generated/numpy.corrcoef.html  "
   ]
  },
  {
   "cell_type": "code",
   "execution_count": 24,
   "metadata": {},
   "outputs": [
    {
     "data": {
      "text/html": [
       "<div>\n",
       "<style scoped>\n",
       "    .dataframe tbody tr th:only-of-type {\n",
       "        vertical-align: middle;\n",
       "    }\n",
       "\n",
       "    .dataframe tbody tr th {\n",
       "        vertical-align: top;\n",
       "    }\n",
       "\n",
       "    .dataframe thead th {\n",
       "        text-align: right;\n",
       "    }\n",
       "</style>\n",
       "<table border=\"1\" class=\"dataframe\">\n",
       "  <thead>\n",
       "    <tr style=\"text-align: right;\">\n",
       "      <th></th>\n",
       "      <th>ID</th>\n",
       "      <th>low</th>\n",
       "      <th>age</th>\n",
       "      <th>lwt</th>\n",
       "      <th>ptl</th>\n",
       "      <th>ftv</th>\n",
       "      <th>bwt</th>\n",
       "      <th>race_black</th>\n",
       "      <th>race_other</th>\n",
       "      <th>smoke</th>\n",
       "      <th>ht</th>\n",
       "      <th>ui</th>\n",
       "    </tr>\n",
       "  </thead>\n",
       "  <tbody>\n",
       "    <tr>\n",
       "      <th>0</th>\n",
       "      <td>85</td>\n",
       "      <td>0</td>\n",
       "      <td>19</td>\n",
       "      <td>182</td>\n",
       "      <td>0</td>\n",
       "      <td>0</td>\n",
       "      <td>2523</td>\n",
       "      <td>1.0</td>\n",
       "      <td>0.0</td>\n",
       "      <td>0.0</td>\n",
       "      <td>0.0</td>\n",
       "      <td>1.0</td>\n",
       "    </tr>\n",
       "    <tr>\n",
       "      <th>1</th>\n",
       "      <td>86</td>\n",
       "      <td>0</td>\n",
       "      <td>33</td>\n",
       "      <td>155</td>\n",
       "      <td>0</td>\n",
       "      <td>3</td>\n",
       "      <td>2551</td>\n",
       "      <td>0.0</td>\n",
       "      <td>1.0</td>\n",
       "      <td>0.0</td>\n",
       "      <td>0.0</td>\n",
       "      <td>0.0</td>\n",
       "    </tr>\n",
       "    <tr>\n",
       "      <th>2</th>\n",
       "      <td>87</td>\n",
       "      <td>0</td>\n",
       "      <td>20</td>\n",
       "      <td>105</td>\n",
       "      <td>0</td>\n",
       "      <td>1</td>\n",
       "      <td>2557</td>\n",
       "      <td>0.0</td>\n",
       "      <td>0.0</td>\n",
       "      <td>1.0</td>\n",
       "      <td>0.0</td>\n",
       "      <td>0.0</td>\n",
       "    </tr>\n",
       "    <tr>\n",
       "      <th>3</th>\n",
       "      <td>88</td>\n",
       "      <td>0</td>\n",
       "      <td>21</td>\n",
       "      <td>108</td>\n",
       "      <td>0</td>\n",
       "      <td>2</td>\n",
       "      <td>2594</td>\n",
       "      <td>0.0</td>\n",
       "      <td>0.0</td>\n",
       "      <td>1.0</td>\n",
       "      <td>0.0</td>\n",
       "      <td>1.0</td>\n",
       "    </tr>\n",
       "    <tr>\n",
       "      <th>4</th>\n",
       "      <td>89</td>\n",
       "      <td>0</td>\n",
       "      <td>18</td>\n",
       "      <td>107</td>\n",
       "      <td>0</td>\n",
       "      <td>0</td>\n",
       "      <td>2600</td>\n",
       "      <td>0.0</td>\n",
       "      <td>0.0</td>\n",
       "      <td>1.0</td>\n",
       "      <td>0.0</td>\n",
       "      <td>1.0</td>\n",
       "    </tr>\n",
       "    <tr>\n",
       "      <th>...</th>\n",
       "      <td>...</td>\n",
       "      <td>...</td>\n",
       "      <td>...</td>\n",
       "      <td>...</td>\n",
       "      <td>...</td>\n",
       "      <td>...</td>\n",
       "      <td>...</td>\n",
       "      <td>...</td>\n",
       "      <td>...</td>\n",
       "      <td>...</td>\n",
       "      <td>...</td>\n",
       "      <td>...</td>\n",
       "    </tr>\n",
       "    <tr>\n",
       "      <th>184</th>\n",
       "      <td>79</td>\n",
       "      <td>1</td>\n",
       "      <td>28</td>\n",
       "      <td>95</td>\n",
       "      <td>0</td>\n",
       "      <td>2</td>\n",
       "      <td>2466</td>\n",
       "      <td>0.0</td>\n",
       "      <td>0.0</td>\n",
       "      <td>1.0</td>\n",
       "      <td>0.0</td>\n",
       "      <td>0.0</td>\n",
       "    </tr>\n",
       "    <tr>\n",
       "      <th>185</th>\n",
       "      <td>81</td>\n",
       "      <td>1</td>\n",
       "      <td>14</td>\n",
       "      <td>100</td>\n",
       "      <td>0</td>\n",
       "      <td>2</td>\n",
       "      <td>2495</td>\n",
       "      <td>0.0</td>\n",
       "      <td>1.0</td>\n",
       "      <td>0.0</td>\n",
       "      <td>0.0</td>\n",
       "      <td>0.0</td>\n",
       "    </tr>\n",
       "    <tr>\n",
       "      <th>186</th>\n",
       "      <td>82</td>\n",
       "      <td>1</td>\n",
       "      <td>23</td>\n",
       "      <td>94</td>\n",
       "      <td>0</td>\n",
       "      <td>0</td>\n",
       "      <td>2495</td>\n",
       "      <td>0.0</td>\n",
       "      <td>1.0</td>\n",
       "      <td>1.0</td>\n",
       "      <td>0.0</td>\n",
       "      <td>0.0</td>\n",
       "    </tr>\n",
       "    <tr>\n",
       "      <th>187</th>\n",
       "      <td>83</td>\n",
       "      <td>1</td>\n",
       "      <td>17</td>\n",
       "      <td>142</td>\n",
       "      <td>0</td>\n",
       "      <td>0</td>\n",
       "      <td>2495</td>\n",
       "      <td>1.0</td>\n",
       "      <td>0.0</td>\n",
       "      <td>0.0</td>\n",
       "      <td>1.0</td>\n",
       "      <td>0.0</td>\n",
       "    </tr>\n",
       "    <tr>\n",
       "      <th>188</th>\n",
       "      <td>84</td>\n",
       "      <td>1</td>\n",
       "      <td>21</td>\n",
       "      <td>130</td>\n",
       "      <td>0</td>\n",
       "      <td>3</td>\n",
       "      <td>2495</td>\n",
       "      <td>0.0</td>\n",
       "      <td>0.0</td>\n",
       "      <td>1.0</td>\n",
       "      <td>1.0</td>\n",
       "      <td>0.0</td>\n",
       "    </tr>\n",
       "  </tbody>\n",
       "</table>\n",
       "<p>189 rows × 12 columns</p>\n",
       "</div>"
      ],
      "text/plain": [
       "     ID  low  age  lwt  ptl  ftv   bwt  race_black  race_other  smoke   ht  \\\n",
       "0    85    0   19  182    0    0  2523         1.0         0.0    0.0  0.0   \n",
       "1    86    0   33  155    0    3  2551         0.0         1.0    0.0  0.0   \n",
       "2    87    0   20  105    0    1  2557         0.0         0.0    1.0  0.0   \n",
       "3    88    0   21  108    0    2  2594         0.0         0.0    1.0  0.0   \n",
       "4    89    0   18  107    0    0  2600         0.0         0.0    1.0  0.0   \n",
       "..   ..  ...  ...  ...  ...  ...   ...         ...         ...    ...  ...   \n",
       "184  79    1   28   95    0    2  2466         0.0         0.0    1.0  0.0   \n",
       "185  81    1   14  100    0    2  2495         0.0         1.0    0.0  0.0   \n",
       "186  82    1   23   94    0    0  2495         0.0         1.0    1.0  0.0   \n",
       "187  83    1   17  142    0    0  2495         1.0         0.0    0.0  1.0   \n",
       "188  84    1   21  130    0    3  2495         0.0         0.0    1.0  1.0   \n",
       "\n",
       "      ui  \n",
       "0    1.0  \n",
       "1    0.0  \n",
       "2    0.0  \n",
       "3    1.0  \n",
       "4    1.0  \n",
       "..   ...  \n",
       "184  0.0  \n",
       "185  0.0  \n",
       "186  0.0  \n",
       "187  0.0  \n",
       "188  0.0  \n",
       "\n",
       "[189 rows x 12 columns]"
      ]
     },
     "execution_count": 24,
     "metadata": {},
     "output_type": "execute_result"
    }
   ],
   "source": [
    "births_df = births_df.rename(columns={'Unnamed: 0': 'ID',  \n",
    "                        'race_2': 'race_black', 'race_3': 'race_other', 'smoke_1': 'smoke', \n",
    "                        'ht_1': 'ht', 'ui_1': 'ui'})\n",
    "births_df\n",
    "\n"
   ]
  },
  {
   "cell_type": "code",
   "execution_count": 25,
   "metadata": {},
   "outputs": [
    {
     "data": {
      "text/html": [
       "<div>\n",
       "<style scoped>\n",
       "    .dataframe tbody tr th:only-of-type {\n",
       "        vertical-align: middle;\n",
       "    }\n",
       "\n",
       "    .dataframe tbody tr th {\n",
       "        vertical-align: top;\n",
       "    }\n",
       "\n",
       "    .dataframe thead th {\n",
       "        text-align: right;\n",
       "    }\n",
       "</style>\n",
       "<table border=\"1\" class=\"dataframe\">\n",
       "  <thead>\n",
       "    <tr style=\"text-align: right;\">\n",
       "      <th></th>\n",
       "      <th>age</th>\n",
       "      <th>lwt</th>\n",
       "      <th>ptl</th>\n",
       "      <th>ftv</th>\n",
       "      <th>bwt</th>\n",
       "    </tr>\n",
       "  </thead>\n",
       "  <tbody>\n",
       "    <tr>\n",
       "      <th>age</th>\n",
       "      <td>1.000000</td>\n",
       "      <td>0.180073</td>\n",
       "      <td>0.071606</td>\n",
       "      <td>0.215394</td>\n",
       "      <td>0.090318</td>\n",
       "    </tr>\n",
       "    <tr>\n",
       "      <th>lwt</th>\n",
       "      <td>0.180073</td>\n",
       "      <td>1.000000</td>\n",
       "      <td>-0.140029</td>\n",
       "      <td>0.140527</td>\n",
       "      <td>0.185733</td>\n",
       "    </tr>\n",
       "    <tr>\n",
       "      <th>ptl</th>\n",
       "      <td>0.071606</td>\n",
       "      <td>-0.140029</td>\n",
       "      <td>1.000000</td>\n",
       "      <td>-0.044430</td>\n",
       "      <td>-0.154653</td>\n",
       "    </tr>\n",
       "    <tr>\n",
       "      <th>ftv</th>\n",
       "      <td>0.215394</td>\n",
       "      <td>0.140527</td>\n",
       "      <td>-0.044430</td>\n",
       "      <td>1.000000</td>\n",
       "      <td>0.058318</td>\n",
       "    </tr>\n",
       "    <tr>\n",
       "      <th>bwt</th>\n",
       "      <td>0.090318</td>\n",
       "      <td>0.185733</td>\n",
       "      <td>-0.154653</td>\n",
       "      <td>0.058318</td>\n",
       "      <td>1.000000</td>\n",
       "    </tr>\n",
       "  </tbody>\n",
       "</table>\n",
       "</div>"
      ],
      "text/plain": [
       "          age       lwt       ptl       ftv       bwt\n",
       "age  1.000000  0.180073  0.071606  0.215394  0.090318\n",
       "lwt  0.180073  1.000000 -0.140029  0.140527  0.185733\n",
       "ptl  0.071606 -0.140029  1.000000 -0.044430 -0.154653\n",
       "ftv  0.215394  0.140527 -0.044430  1.000000  0.058318\n",
       "bwt  0.090318  0.185733 -0.154653  0.058318  1.000000"
      ]
     },
     "execution_count": 25,
     "metadata": {},
     "output_type": "execute_result"
    }
   ],
   "source": [
    "births_df[['age', 'lwt', 'ptl', 'ftv', 'bwt']].corr()"
   ]
  },
  {
   "cell_type": "markdown",
   "metadata": {
    "id": "MaR0YQTC4cCk"
   },
   "source": [
    "It seems as if there aren't any predictors that could be considered collinear. In order for two variables to be collinear, their correlation coefficient should approach 1 or -1, indicating a strong positive or negative correlation between them. In this matrix, most of the correlation coefficients are close to 0."
   ]
  },
  {
   "cell_type": "markdown",
   "metadata": {
    "id": "n60-THlM4cCk"
   },
   "source": [
    "**Question 7. (7pts)** Fit a multiple linear regression model predicting bwt from  age, lwt, race, and smoke. Your final answer should specify coefficients for the slopes by writing in the following format: $\\hat{y} = \\beta_0 + \\beta_1*x_1 + ...+\\beta_n*x_n.$ Once you have this regression, answer the following:\n",
    "\n",
    "**Use your line to predict a birthweight given someone who smokes, has checked the 'other' category for race, is 31 with lwt=150.**\n",
    "\n",
    "**Calculate the adjusted R^2 for your model.**"
   ]
  },
  {
   "cell_type": "code",
   "execution_count": 26,
   "metadata": {},
   "outputs": [
    {
     "name": "stdout",
     "output_type": "stream",
     "text": [
      "Final Answer: 𝑦̂ = 2839.4334350653544 + -1.9478407239304223*'age' + 3.999938486071043*'lwt' + -510.5014932965374*'race_black' + -398.64385927872723*'race_other' + -401.7204881921337*'smoke'\n"
     ]
    }
   ],
   "source": [
    "y = births_df['bwt']\n",
    "X = births_df[['age', 'lwt', 'race_black', 'race_other', 'smoke']]\n",
    "\n",
    "model = LinearRegression().fit(X, y)\n",
    "\n",
    "intercept = model.intercept_\n",
    "slopes = model.coef_\n",
    "\n",
    "\n",
    "print(f\"Final Answer: 𝑦̂ = {intercept} + {slopes[0]}*'age' + {slopes[1]}*'lwt' + {slopes[2]}*'race_black' + {slopes[3]}*'race_other' + {slopes[4]}*'smoke'\")      "
   ]
  },
  {
   "cell_type": "code",
   "execution_count": 27,
   "metadata": {},
   "outputs": [
    {
     "name": "stdout",
     "output_type": "stream",
     "text": [
      "The predicted birthweight given someone who smokes, has checked the 'other' category for race, and is 31 with lwt=150, is 2578.6767980633063 grams.\n"
     ]
    }
   ],
   "source": [
    "'''Birthweight given someone who smokes, has checked the 'other' category for race, is 31 with lwt=150'''\n",
    "\n",
    "predicted_birthweight = intercept + slopes[0]*31 + slopes[1]*150 + slopes[3]*1 + slopes[4]*1\n",
    "print(f\"The predicted birthweight given someone who smokes, has checked the 'other' category for race, and is 31 with lwt=150, is {predicted_birthweight} grams.\")\n",
    "\n"
   ]
  },
  {
   "cell_type": "code",
   "execution_count": 28,
   "metadata": {},
   "outputs": [
    {
     "name": "stdout",
     "output_type": "stream",
     "text": [
      "Adjusted R^2 value: 0.14829871160400032\n"
     ]
    }
   ],
   "source": [
    "'''Adjusted R^2 for my model'''\n",
    "\n",
    "r_squared = model.score(X, y)\n",
    "n = len(births_df)\n",
    "adjr_squared = 1-(n-1)/(n-(2))*(1-r_squared)\n",
    "adjr_squared\n",
    "\n",
    "print(\"Adjusted R^2 value:\", r_squared)\n"
   ]
  },
  {
   "cell_type": "markdown",
   "metadata": {
    "id": "li0HRAzBtXiE"
   },
   "source": [
    "**Question 8. (8pts)** Conduct a hypothesis test for each coefficient. Which are significant predictors of bwt? Use a significance level of 0.05. Note, you can use the CI approach of conducting a hypothesis test. *Hint* This is an extension of bootstrapping a single slope."
   ]
  },
  {
   "cell_type": "code",
   "execution_count": 29,
   "metadata": {
    "id": "9Z64QCzxzx5K"
   },
   "outputs": [
    {
     "name": "stdout",
     "output_type": "stream",
     "text": [
      "Age vs. Birth Weight Confidence Interval: (-12.891199228474107, 33.293923430240746)\n",
      "LWT vs. Birth Weight Confidence Interval: (1.3367534548103017, 7.240227845747732)\n",
      "Race (Black) vs. Birth Weight Confidence Interval: (-535.5061255893145, -0.7554547880859785)\n",
      "Race (Other) vs. Birth Weight Confidence Interval: (-434.8985712939958, -3.756997640654121)\n",
      "Smoking vs. Birth Weight Confidence Interval: (-494.4202305460873, -106.86761598285486)\n"
     ]
    }
   ],
   "source": [
    "age_bwt_confidence_interval = bootstrap_slope(births_df, 'age', 'bwt', 500)\n",
    "\n",
    "lwt_bwt_confidence_interval = bootstrap_slope(births_df, 'lwt', 'bwt', 500)\n",
    "\n",
    "race_black_bwt_confidence_interval = bootstrap_slope(births_df, 'race_black', 'bwt', 500)\n",
    "\n",
    "race_other_bwt_confifdence_interval = bootstrap_slope(births_df, 'race_other', 'bwt', 500)\n",
    "\n",
    "smoke_bwt_confidence_interval = bootstrap_slope(births_df, 'smoke', 'bwt', 500)\n",
    "\n",
    "print(\"Age vs. Birth Weight Confidence Interval:\", age_bwt_confidence_interval)\n",
    "\n",
    "print(\"LWT vs. Birth Weight Confidence Interval:\", lwt_bwt_confidence_interval)\n",
    "\n",
    "print(\"Race (Black) vs. Birth Weight Confidence Interval:\", race_black_bwt_confidence_interval)\n",
    "\n",
    "print(\"Race (Other) vs. Birth Weight Confidence Interval:\", race_other_bwt_confifdence_interval)\n",
    "\n",
    "print(\"Smoking vs. Birth Weight Confidence Interval:\", smoke_bwt_confidence_interval)\n"
   ]
  },
  {
   "cell_type": "markdown",
   "metadata": {
    "id": "VpoNRPtpzyOQ"
   },
   "source": [
    "Every slope coefficient implies that its antecedent is a significant predictor of Baby Weight (bwt) except Age, as its 95% confidence interval ([-12.891199228474107, 33.293923430240746]) contains 0."
   ]
  },
  {
   "cell_type": "markdown",
   "metadata": {
    "id": "SMEsTEA-uJLY"
   },
   "source": [
    "**Question 9. (3pts)** Create a scatterplot of the residuals against the predicted values, as well as a histogram of\n",
    "the residuals. Is a linear regression model appropriate for this dataset?"
   ]
  },
  {
   "cell_type": "code",
   "execution_count": 33,
   "metadata": {},
   "outputs": [
    {
     "data": {
      "text/plain": [
       "array([3019.91177248, 2996.50129724, 2818.74967343, 2828.80164817,\n",
       "       2830.64523185, 2895.87729286, 3268.5736805 , 2819.66994755,\n",
       "       2873.21799967, 2839.06213698])"
      ]
     },
     "execution_count": 33,
     "metadata": {},
     "output_type": "execute_result"
    }
   ],
   "source": [
    "y = births_df['bwt']\n",
    "X = births_df[['age', 'lwt', 'race_black', 'race_other', 'smoke']]\n",
    "\n",
    "model = LinearRegression().fit(X, y)\n",
    "fitted_values = model.predict(X)\n",
    "fitted_values[0:10]"
   ]
  },
  {
   "cell_type": "code",
   "execution_count": 39,
   "metadata": {
    "id": "ZO4v8esy18tE"
   },
   "outputs": [
    {
     "data": {
      "image/png": "[encoded data removed]",
      "text/plain": [
       "<Figure size 640x480 with 1 Axes>"
      ]
     },
     "metadata": {},
     "output_type": "display_data"
    }
   ],
   "source": [
    "births_df['fitted'] = fitted_values\n",
    "births_df['residuals'] = births_df.bwt - fitted_values\n",
    "\n",
    "plt.scatter(births_df.fitted, births_df.residuals, color = 'orange')\n",
    "plt.plot([2200,3800],[0,0],color=\"black\",lw = 2)\n",
    "\n",
    "plt.xlabel('Fitted')\n",
    "plt.ylabel('Residuals')\n",
    "\n",
    "plt.title(\"Fitted Values vs. Residuals\")\n",
    "\n",
    "plt.show()"
   ]
  },
  {
   "cell_type": "code",
   "execution_count": 44,
   "metadata": {},
   "outputs": [
    {
     "data": {
      "image/png": "[encoded data removed]",
      "text/plain": [
       "<Figure size 640x480 with 1 Axes>"
      ]
     },
     "metadata": {},
     "output_type": "display_data"
    }
   ],
   "source": [
    "plt.hist(births_df['residuals'], bins = 15, color = 'purple')\n",
    "\n",
    "plt.xlabel('Residuals')\n",
    "plt.ylabel('Frequency')\n",
    "\n",
    "plt.title('Frequency of Residuals')\n",
    "\n",
    "plt.show()"
   ]
  },
  {
   "cell_type": "markdown",
   "metadata": {
    "id": "9Zb6HnX319of"
   },
   "source": [
    "I would say a linear regression model is appropriate for this dataset. The residuals exhibit randomness around zero in the scatterplot and follow a roughly symmetric bell-shaped distribution in the histogram, indicating that the assumptions of linear regression, such as constant variance of residuals and normality of residuals, are met. Therefore, the model captures the relationship between the predictor variables and the target variable adequately, providing reliable predictions."
   ]
  },
  {
   "cell_type": "markdown",
   "metadata": {},
   "source": [
    "**Question 10. (7pts)** Drop one variable that is not significant from your multiple regression model. Calculate the multiple linear regression line and compute the following:\n",
    "\n",
    "**Use your line to predict a birthweight given someone who smokes, has checked the 'other' category for race, with lwt=150.**\n",
    "\n",
    "\n",
    "**Calculate the adjusted R^2 for your model and compare it to your model in Q7. Does this give you a better idea of which model is better?**\n",
    "\n",
    "\n"
   ]
  },
  {
   "cell_type": "code",
   "execution_count": 52,
   "metadata": {},
   "outputs": [
    {
     "name": "stdout",
     "output_type": "stream",
     "text": [
      "Multiple Regression Line: 𝑦̂ = 2799.284609332379 + 3.9376700677251493*'lwt' + -503.9139335023183*'race_black' + -394.9791757573307*'race_other' + -399.7724220088484*'smoke'\n"
     ]
    }
   ],
   "source": [
    "'''Dropping 'Age' from my multiple regression model, based off the confidence intervals I calculated earlier'''\n",
    "\n",
    "y1 = births_df['bwt']\n",
    "X1 = births_df[['lwt', 'race_black', 'race_other', 'smoke']]\n",
    "\n",
    "model = LinearRegression().fit(X1, y1)\n",
    "\n",
    "intercept = model.intercept_\n",
    "slopes = model.coef_\n",
    "\n",
    "print(f\"Multiple Regression Line: 𝑦̂ = {intercept} + {slopes[0]}*'lwt' + {slopes[1]}*'race_black' + {slopes[2]}*'race_other' + {slopes[3]}*'smoke'\")\n"
   ]
  },
  {
   "cell_type": "code",
   "execution_count": 53,
   "metadata": {},
   "outputs": [
    {
     "name": "stdout",
     "output_type": "stream",
     "text": [
      "Final Answer: 2595.1835217249723 grams\n"
     ]
    }
   ],
   "source": [
    "'''Birthweight given someone who smokes, has checked the 'other' category for race, with lwt=150'''\n",
    "\n",
    "predicted_bwt = 2799.284609332379 + 3.9376700677251493*150 + -503.9139335023183*0 + -394.9791757573307*1 + -399.7724220088484*1\n",
    "\n",
    "print(f'Final Answer: {predicted_bwt} grams')\n"
   ]
  },
  {
   "cell_type": "code",
   "execution_count": 54,
   "metadata": {},
   "outputs": [
    {
     "name": "stdout",
     "output_type": "stream",
     "text": [
      "Adjusted R^2 value: 0.14811560261261492\n"
     ]
    }
   ],
   "source": [
    "'''Adjusted R^2 for my model'''\n",
    "\n",
    "r_squared = model.score(X1, y1)\n",
    "n = len(births_df)\n",
    "adjr_squared = 1-(n-1)/(n-(2))*(1-r_squared)\n",
    "adjr_squared\n",
    "\n",
    "print(\"Adjusted R^2 value:\", r_squared)"
   ]
  },
  {
   "cell_type": "markdown",
   "metadata": {},
   "source": [
    "This adjusted R^2 value, 0.14811560261261492, is not very different from the original adjusted R^2 value, which included 'Age' (0.14829871160400032). Therefore, it's hard to say one model is better than the other."
   ]
  }
 ],
 "metadata": {
  "colab": {
   "provenance": []
  },
  "kernelspec": {
   "display_name": "Python 3 (ipykernel)",
   "language": "python",
   "name": "python3"
  },
  "language_info": {
   "codemirror_mode": {
    "name": "ipython",
    "version": 3
   },
   "file_extension": ".py",
   "mimetype": "text/x-python",
   "name": "python",
   "nbconvert_exporter": "python",
   "pygments_lexer": "ipython3",
   "version": "3.11.5"
  }
 },
 "nbformat": 4,
 "nbformat_minor": 1
}
